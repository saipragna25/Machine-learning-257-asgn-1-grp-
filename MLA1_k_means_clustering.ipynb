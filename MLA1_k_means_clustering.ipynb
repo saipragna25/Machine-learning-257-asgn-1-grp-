{
  "nbformat": 4,
  "nbformat_minor": 0,
  "metadata": {
    "colab": {
      "provenance": [],
      "include_colab_link": true
    },
    "kernelspec": {
      "name": "python3",
      "display_name": "Python 3"
    },
    "language_info": {
      "name": "python"
    },
    "accelerator": "GPU",
    "gpuClass": "standard"
  },
  "cells": [
    {
      "cell_type": "markdown",
      "metadata": {
        "id": "view-in-github",
        "colab_type": "text"
      },
      "source": [
        "<a href=\"https://colab.research.google.com/github/saipragna25/Machine-learning-257-asgn-1-grp-/blob/main/MLA1_k_means_clustering.ipynb\" target=\"_parent\"><img src=\"https://colab.research.google.com/assets/colab-badge.svg\" alt=\"Open In Colab\"/></a>"
      ]
    },
    {
      "cell_type": "markdown",
      "source": [
        "# Predictive Marketing\n",
        "\n",
        "###Team: Data Wizards\n",
        "\n",
        "Kancheti Sai Pragna [SJSU ID: 016698552]\n",
        "\n",
        "Sravani Raparla [SJSU ID: 016656601]\n",
        "\n",
        "chirudeep gorle [SJSU ID: 016682627]\n",
        "\n",
        "Contributions:\n",
        "Data pre-porcessing and data cleaning graphs [TEAM]\n",
        "\n",
        "Data narrative (TEAM)\n",
        "\n",
        "Data insights (TEAM)\n",
        "\n",
        "Algorithms:\n",
        "\n",
        "1 K-Means Clustering: This was implemented in TensorFlow by each     individual member of the group.\n",
        "\n",
        "2 DBSCAN Clustering: Sai Pragna Kancheti implemented DBSCAN clustering with SciKit Learn\n",
        "\n",
        "3 Optics Clustering: Sravani Raparla implemented Optics clustering with SciKit Learn\n",
        "\n",
        "4 Mean Shift: chirudeep gorle implemented Optics clustering with SciKit Learn\n",
        "\n"
      ],
      "metadata": {
        "id": "zOivpDgbCoA-"
      }
    },
    {
      "cell_type": "markdown",
      "source": [
        "#DATA UNDERSTANDING\n",
        "\n",
        "### Business understanding of data:\n",
        "\n",
        "Hunter's e-grocery is a well-known lifestyle brand for the new generation. This company, which has a presence in ten countries, is constantly looking for innovative ways to better serve and predict the needs of its clients.\n",
        "\n",
        " Black swan events like COVID-19, the Ukraine crisis, and the gas shortage have all impacted consumers' purchasing decisions.\n",
        " \n",
        " In this task, we will use unsupervised machine learning to classify customers according to characteristics of their purchasing behavior. By identifying customers with similar needs or responses to a certain marketing activity, predictive marketing may benefit businesses.\n",
        "\n",
        "\n",
        "To classify customers we have utilized some simple clustering algorithms:\n",
        "\n",
        "1. K-Means Clustering\n",
        "  \n",
        "  a. This was implemented in TensorFlow by each individual member of the group.\n",
        "\n",
        "2. Optics Clustering\n",
        "\t\n",
        "  a. Sravani Raparla implemented Optics clustering with SciKit Learn\n",
        "\n",
        "3. DBSCAN Clustering\n",
        "\t\n",
        "  a. Sai Pragna Kancheti implemented DBSCAN clustering with SciKit Learn\n",
        "\n",
        "4. Mean Shift\n",
        "  \n",
        "  a. chirudeep gorle implemented Mean Shift clustering with SciKit Learn\n",
        "\n",
        "\n",
        "\n",
        "\n",
        "### Dataset:\n",
        "\n",
        "The dataset consists of 2019501 Rows & 12 Columns which are as follows :\n",
        "order_id – (A unique number to identity the order)\n",
        "\n",
        "* user_id - (A unique number to identify the user)\n",
        "\n",
        "* order_number – (Number of the order)\n",
        "\n",
        "* order_dow – (Day of the Week the order was made)\n",
        "\n",
        "* order_hour_of_day – (Time of the order)\n",
        "\n",
        "* days_since_prior_order - (History of the order)\n",
        "\n",
        "* product_id – (Id of the product)\n",
        "\n",
        "* add_to_cart_order – (Number of items added to cart)\n",
        "\n",
        "* reordered – (If the reorder took place)\n",
        "\n",
        "* department_id - (Unique number allocated to each department)\n",
        "\n",
        "* department – (Names of the departments)\n",
        "\n",
        "* product_name – (Name of the products)"
      ],
      "metadata": {
        "id": "GH3q8SZlpPOc"
      }
    },
    {
      "cell_type": "code",
      "source": [
        "# IMPORTING PACKAGES\n",
        "import pandas as pd\n",
        "import numpy as np\n",
        "import seaborn as sns\n",
        "import matplotlib.pyplot as plt\n",
        "import seaborn as sns\n",
        "import sklearn\n",
        "from sklearn.cluster import KMeans , k_means\n",
        "import warnings\n",
        "warnings.filterwarnings('ignore')"
      ],
      "metadata": {
        "id": "LCDBFg2WpQf2"
      },
      "execution_count": null,
      "outputs": []
    },
    {
      "cell_type": "code",
      "source": [
        "# LOADING DATA\n",
        "main_data = pd.read_csv(\"/content/ECommerce_consumer behaviour.csv\")\n",
        "df = main_data.copy()\n",
        "df"
      ],
      "metadata": {
        "colab": {
          "base_uri": "https://localhost:8080/",
          "height": 678
        },
        "id": "Lcdug0-Dx-YS",
        "outputId": "807f8483-84bf-44f6-92b3-8bc290083329"
      },
      "execution_count": null,
      "outputs": [
        {
          "output_type": "execute_result",
          "data": {
            "text/plain": [
              "         order_id  user_id  order_number  order_dow  order_hour_of_day  \\\n",
              "0         2425083    49125             1          2                 18   \n",
              "1         2425083    49125             1          2                 18   \n",
              "2         2425083    49125             1          2                 18   \n",
              "3         2425083    49125             1          2                 18   \n",
              "4         2425083    49125             1          2                 18   \n",
              "...           ...      ...           ...        ...                ...   \n",
              "2019496   3390742   199430            16          3                 18   \n",
              "2019497    458285   128787            42          2                 19   \n",
              "2019498    458285   128787            42          2                 19   \n",
              "2019499    458285   128787            42          2                 19   \n",
              "2019500    458285   128787            42          2                 19   \n",
              "\n",
              "         days_since_prior_order  product_id  add_to_cart_order  reordered  \\\n",
              "0                           NaN          17                  1          0   \n",
              "1                           NaN          91                  2          0   \n",
              "2                           NaN          36                  3          0   \n",
              "3                           NaN          83                  4          0   \n",
              "4                           NaN          83                  5          0   \n",
              "...                         ...         ...                ...        ...   \n",
              "2019496                     5.0          83                  8          0   \n",
              "2019497                     3.0         115                  1          1   \n",
              "2019498                     3.0          32                  2          1   \n",
              "2019499                     3.0          32                  3          1   \n",
              "2019500                     3.0         123                  4          1   \n",
              "\n",
              "         department_id  department                   product_name  \n",
              "0                   13      pantry             baking ingredients  \n",
              "1                   16  dairy eggs                soy lactosefree  \n",
              "2                   16  dairy eggs                         butter  \n",
              "3                    4     produce               fresh vegetables  \n",
              "4                    4     produce               fresh vegetables  \n",
              "...                ...         ...                            ...  \n",
              "2019496              4     produce               fresh vegetables  \n",
              "2019497              7   beverages  water seltzer sparkling water  \n",
              "2019498              4     produce               packaged produce  \n",
              "2019499              4     produce               packaged produce  \n",
              "2019500              4     produce     packaged vegetables fruits  \n",
              "\n",
              "[2019501 rows x 12 columns]"
            ],
            "text/html": [
              "\n",
              "  <div id=\"df-e9002a76-efbe-49cd-a25c-06aef6d4c072\">\n",
              "    <div class=\"colab-df-container\">\n",
              "      <div>\n",
              "<style scoped>\n",
              "    .dataframe tbody tr th:only-of-type {\n",
              "        vertical-align: middle;\n",
              "    }\n",
              "\n",
              "    .dataframe tbody tr th {\n",
              "        vertical-align: top;\n",
              "    }\n",
              "\n",
              "    .dataframe thead th {\n",
              "        text-align: right;\n",
              "    }\n",
              "</style>\n",
              "<table border=\"1\" class=\"dataframe\">\n",
              "  <thead>\n",
              "    <tr style=\"text-align: right;\">\n",
              "      <th></th>\n",
              "      <th>order_id</th>\n",
              "      <th>user_id</th>\n",
              "      <th>order_number</th>\n",
              "      <th>order_dow</th>\n",
              "      <th>order_hour_of_day</th>\n",
              "      <th>days_since_prior_order</th>\n",
              "      <th>product_id</th>\n",
              "      <th>add_to_cart_order</th>\n",
              "      <th>reordered</th>\n",
              "      <th>department_id</th>\n",
              "      <th>department</th>\n",
              "      <th>product_name</th>\n",
              "    </tr>\n",
              "  </thead>\n",
              "  <tbody>\n",
              "    <tr>\n",
              "      <th>0</th>\n",
              "      <td>2425083</td>\n",
              "      <td>49125</td>\n",
              "      <td>1</td>\n",
              "      <td>2</td>\n",
              "      <td>18</td>\n",
              "      <td>NaN</td>\n",
              "      <td>17</td>\n",
              "      <td>1</td>\n",
              "      <td>0</td>\n",
              "      <td>13</td>\n",
              "      <td>pantry</td>\n",
              "      <td>baking ingredients</td>\n",
              "    </tr>\n",
              "    <tr>\n",
              "      <th>1</th>\n",
              "      <td>2425083</td>\n",
              "      <td>49125</td>\n",
              "      <td>1</td>\n",
              "      <td>2</td>\n",
              "      <td>18</td>\n",
              "      <td>NaN</td>\n",
              "      <td>91</td>\n",
              "      <td>2</td>\n",
              "      <td>0</td>\n",
              "      <td>16</td>\n",
              "      <td>dairy eggs</td>\n",
              "      <td>soy lactosefree</td>\n",
              "    </tr>\n",
              "    <tr>\n",
              "      <th>2</th>\n",
              "      <td>2425083</td>\n",
              "      <td>49125</td>\n",
              "      <td>1</td>\n",
              "      <td>2</td>\n",
              "      <td>18</td>\n",
              "      <td>NaN</td>\n",
              "      <td>36</td>\n",
              "      <td>3</td>\n",
              "      <td>0</td>\n",
              "      <td>16</td>\n",
              "      <td>dairy eggs</td>\n",
              "      <td>butter</td>\n",
              "    </tr>\n",
              "    <tr>\n",
              "      <th>3</th>\n",
              "      <td>2425083</td>\n",
              "      <td>49125</td>\n",
              "      <td>1</td>\n",
              "      <td>2</td>\n",
              "      <td>18</td>\n",
              "      <td>NaN</td>\n",
              "      <td>83</td>\n",
              "      <td>4</td>\n",
              "      <td>0</td>\n",
              "      <td>4</td>\n",
              "      <td>produce</td>\n",
              "      <td>fresh vegetables</td>\n",
              "    </tr>\n",
              "    <tr>\n",
              "      <th>4</th>\n",
              "      <td>2425083</td>\n",
              "      <td>49125</td>\n",
              "      <td>1</td>\n",
              "      <td>2</td>\n",
              "      <td>18</td>\n",
              "      <td>NaN</td>\n",
              "      <td>83</td>\n",
              "      <td>5</td>\n",
              "      <td>0</td>\n",
              "      <td>4</td>\n",
              "      <td>produce</td>\n",
              "      <td>fresh vegetables</td>\n",
              "    </tr>\n",
              "    <tr>\n",
              "      <th>...</th>\n",
              "      <td>...</td>\n",
              "      <td>...</td>\n",
              "      <td>...</td>\n",
              "      <td>...</td>\n",
              "      <td>...</td>\n",
              "      <td>...</td>\n",
              "      <td>...</td>\n",
              "      <td>...</td>\n",
              "      <td>...</td>\n",
              "      <td>...</td>\n",
              "      <td>...</td>\n",
              "      <td>...</td>\n",
              "    </tr>\n",
              "    <tr>\n",
              "      <th>2019496</th>\n",
              "      <td>3390742</td>\n",
              "      <td>199430</td>\n",
              "      <td>16</td>\n",
              "      <td>3</td>\n",
              "      <td>18</td>\n",
              "      <td>5.0</td>\n",
              "      <td>83</td>\n",
              "      <td>8</td>\n",
              "      <td>0</td>\n",
              "      <td>4</td>\n",
              "      <td>produce</td>\n",
              "      <td>fresh vegetables</td>\n",
              "    </tr>\n",
              "    <tr>\n",
              "      <th>2019497</th>\n",
              "      <td>458285</td>\n",
              "      <td>128787</td>\n",
              "      <td>42</td>\n",
              "      <td>2</td>\n",
              "      <td>19</td>\n",
              "      <td>3.0</td>\n",
              "      <td>115</td>\n",
              "      <td>1</td>\n",
              "      <td>1</td>\n",
              "      <td>7</td>\n",
              "      <td>beverages</td>\n",
              "      <td>water seltzer sparkling water</td>\n",
              "    </tr>\n",
              "    <tr>\n",
              "      <th>2019498</th>\n",
              "      <td>458285</td>\n",
              "      <td>128787</td>\n",
              "      <td>42</td>\n",
              "      <td>2</td>\n",
              "      <td>19</td>\n",
              "      <td>3.0</td>\n",
              "      <td>32</td>\n",
              "      <td>2</td>\n",
              "      <td>1</td>\n",
              "      <td>4</td>\n",
              "      <td>produce</td>\n",
              "      <td>packaged produce</td>\n",
              "    </tr>\n",
              "    <tr>\n",
              "      <th>2019499</th>\n",
              "      <td>458285</td>\n",
              "      <td>128787</td>\n",
              "      <td>42</td>\n",
              "      <td>2</td>\n",
              "      <td>19</td>\n",
              "      <td>3.0</td>\n",
              "      <td>32</td>\n",
              "      <td>3</td>\n",
              "      <td>1</td>\n",
              "      <td>4</td>\n",
              "      <td>produce</td>\n",
              "      <td>packaged produce</td>\n",
              "    </tr>\n",
              "    <tr>\n",
              "      <th>2019500</th>\n",
              "      <td>458285</td>\n",
              "      <td>128787</td>\n",
              "      <td>42</td>\n",
              "      <td>2</td>\n",
              "      <td>19</td>\n",
              "      <td>3.0</td>\n",
              "      <td>123</td>\n",
              "      <td>4</td>\n",
              "      <td>1</td>\n",
              "      <td>4</td>\n",
              "      <td>produce</td>\n",
              "      <td>packaged vegetables fruits</td>\n",
              "    </tr>\n",
              "  </tbody>\n",
              "</table>\n",
              "<p>2019501 rows × 12 columns</p>\n",
              "</div>\n",
              "      <button class=\"colab-df-convert\" onclick=\"convertToInteractive('df-e9002a76-efbe-49cd-a25c-06aef6d4c072')\"\n",
              "              title=\"Convert this dataframe to an interactive table.\"\n",
              "              style=\"display:none;\">\n",
              "        \n",
              "  <svg xmlns=\"http://www.w3.org/2000/svg\" height=\"24px\"viewBox=\"0 0 24 24\"\n",
              "       width=\"24px\">\n",
              "    <path d=\"M0 0h24v24H0V0z\" fill=\"none\"/>\n",
              "    <path d=\"M18.56 5.44l.94 2.06.94-2.06 2.06-.94-2.06-.94-.94-2.06-.94 2.06-2.06.94zm-11 1L8.5 8.5l.94-2.06 2.06-.94-2.06-.94L8.5 2.5l-.94 2.06-2.06.94zm10 10l.94 2.06.94-2.06 2.06-.94-2.06-.94-.94-2.06-.94 2.06-2.06.94z\"/><path d=\"M17.41 7.96l-1.37-1.37c-.4-.4-.92-.59-1.43-.59-.52 0-1.04.2-1.43.59L10.3 9.45l-7.72 7.72c-.78.78-.78 2.05 0 2.83L4 21.41c.39.39.9.59 1.41.59.51 0 1.02-.2 1.41-.59l7.78-7.78 2.81-2.81c.8-.78.8-2.07 0-2.86zM5.41 20L4 18.59l7.72-7.72 1.47 1.35L5.41 20z\"/>\n",
              "  </svg>\n",
              "      </button>\n",
              "      \n",
              "  <style>\n",
              "    .colab-df-container {\n",
              "      display:flex;\n",
              "      flex-wrap:wrap;\n",
              "      gap: 12px;\n",
              "    }\n",
              "\n",
              "    .colab-df-convert {\n",
              "      background-color: #E8F0FE;\n",
              "      border: none;\n",
              "      border-radius: 50%;\n",
              "      cursor: pointer;\n",
              "      display: none;\n",
              "      fill: #1967D2;\n",
              "      height: 32px;\n",
              "      padding: 0 0 0 0;\n",
              "      width: 32px;\n",
              "    }\n",
              "\n",
              "    .colab-df-convert:hover {\n",
              "      background-color: #E2EBFA;\n",
              "      box-shadow: 0px 1px 2px rgba(60, 64, 67, 0.3), 0px 1px 3px 1px rgba(60, 64, 67, 0.15);\n",
              "      fill: #174EA6;\n",
              "    }\n",
              "\n",
              "    [theme=dark] .colab-df-convert {\n",
              "      background-color: #3B4455;\n",
              "      fill: #D2E3FC;\n",
              "    }\n",
              "\n",
              "    [theme=dark] .colab-df-convert:hover {\n",
              "      background-color: #434B5C;\n",
              "      box-shadow: 0px 1px 3px 1px rgba(0, 0, 0, 0.15);\n",
              "      filter: drop-shadow(0px 1px 2px rgba(0, 0, 0, 0.3));\n",
              "      fill: #FFFFFF;\n",
              "    }\n",
              "  </style>\n",
              "\n",
              "      <script>\n",
              "        const buttonEl =\n",
              "          document.querySelector('#df-e9002a76-efbe-49cd-a25c-06aef6d4c072 button.colab-df-convert');\n",
              "        buttonEl.style.display =\n",
              "          google.colab.kernel.accessAllowed ? 'block' : 'none';\n",
              "\n",
              "        async function convertToInteractive(key) {\n",
              "          const element = document.querySelector('#df-e9002a76-efbe-49cd-a25c-06aef6d4c072');\n",
              "          const dataTable =\n",
              "            await google.colab.kernel.invokeFunction('convertToInteractive',\n",
              "                                                     [key], {});\n",
              "          if (!dataTable) return;\n",
              "\n",
              "          const docLinkHtml = 'Like what you see? Visit the ' +\n",
              "            '<a target=\"_blank\" href=https://colab.research.google.com/notebooks/data_table.ipynb>data table notebook</a>'\n",
              "            + ' to learn more about interactive tables.';\n",
              "          element.innerHTML = '';\n",
              "          dataTable['output_type'] = 'display_data';\n",
              "          await google.colab.output.renderOutput(dataTable, element);\n",
              "          const docLink = document.createElement('div');\n",
              "          docLink.innerHTML = docLinkHtml;\n",
              "          element.appendChild(docLink);\n",
              "        }\n",
              "      </script>\n",
              "    </div>\n",
              "  </div>\n",
              "  "
            ]
          },
          "metadata": {},
          "execution_count": 2
        }
      ]
    },
    {
      "cell_type": "code",
      "source": [
        "df.info()"
      ],
      "metadata": {
        "colab": {
          "base_uri": "https://localhost:8080/"
        },
        "id": "spU0_xvhyrQo",
        "outputId": "5ed0bf9a-86be-4e2a-9b2a-aecbe6951845"
      },
      "execution_count": null,
      "outputs": [
        {
          "output_type": "stream",
          "name": "stdout",
          "text": [
            "<class 'pandas.core.frame.DataFrame'>\n",
            "RangeIndex: 2019501 entries, 0 to 2019500\n",
            "Data columns (total 12 columns):\n",
            " #   Column                  Dtype  \n",
            "---  ------                  -----  \n",
            " 0   order_id                int64  \n",
            " 1   user_id                 int64  \n",
            " 2   order_number            int64  \n",
            " 3   order_dow               int64  \n",
            " 4   order_hour_of_day       int64  \n",
            " 5   days_since_prior_order  float64\n",
            " 6   product_id              int64  \n",
            " 7   add_to_cart_order       int64  \n",
            " 8   reordered               int64  \n",
            " 9   department_id           int64  \n",
            " 10  department              object \n",
            " 11  product_name            object \n",
            "dtypes: float64(1), int64(9), object(2)\n",
            "memory usage: 184.9+ MB\n"
          ]
        }
      ]
    },
    {
      "cell_type": "code",
      "source": [
        "df.isnull().sum()"
      ],
      "metadata": {
        "colab": {
          "base_uri": "https://localhost:8080/"
        },
        "id": "3r5osa0vyvVf",
        "outputId": "e3171725-4f40-4dd5-e100-6c0e6fdff75a"
      },
      "execution_count": null,
      "outputs": [
        {
          "output_type": "execute_result",
          "data": {
            "text/plain": [
              "order_id                       0\n",
              "user_id                        0\n",
              "order_number                   0\n",
              "order_dow                      0\n",
              "order_hour_of_day              0\n",
              "days_since_prior_order    124342\n",
              "product_id                     0\n",
              "add_to_cart_order              0\n",
              "reordered                      0\n",
              "department_id                  0\n",
              "department                     0\n",
              "product_name                   0\n",
              "dtype: int64"
            ]
          },
          "metadata": {},
          "execution_count": 4
        }
      ]
    },
    {
      "cell_type": "code",
      "source": [
        "df['days_since_prior_order'].unique()"
      ],
      "metadata": {
        "colab": {
          "base_uri": "https://localhost:8080/"
        },
        "id": "Sndc5yp7y0jX",
        "outputId": "547eed39-3a1d-4067-88e8-d6ac8007cea0"
      },
      "execution_count": null,
      "outputs": [
        {
          "output_type": "execute_result",
          "data": {
            "text/plain": [
              "array([nan,  3.,  6.,  7., 30., 20.,  4.,  8., 15., 10., 28.,  9., 12.,\n",
              "       11.,  2., 25., 13., 29., 14., 21.,  5.,  1., 18.,  0., 19., 17.,\n",
              "       22., 26., 24., 16., 23., 27.])"
            ]
          },
          "metadata": {},
          "execution_count": 5
        }
      ]
    },
    {
      "cell_type": "code",
      "source": [
        "# TAKING CARE OF NULL VALUES\n",
        "for col in df.columns:\n",
        "    if df[col].dtypes == 'float64':\n",
        "        df[col].fillna(-1,inplace=True) "
      ],
      "metadata": {
        "id": "pbYJfR1qy35J"
      },
      "execution_count": null,
      "outputs": []
    },
    {
      "cell_type": "code",
      "source": [
        "df.isnull().sum()"
      ],
      "metadata": {
        "colab": {
          "base_uri": "https://localhost:8080/"
        },
        "id": "NwTRiLT-y72k",
        "outputId": "48cf5e03-519a-4bb3-9176-dbebdd13a6de"
      },
      "execution_count": null,
      "outputs": [
        {
          "output_type": "execute_result",
          "data": {
            "text/plain": [
              "order_id                  0\n",
              "user_id                   0\n",
              "order_number              0\n",
              "order_dow                 0\n",
              "order_hour_of_day         0\n",
              "days_since_prior_order    0\n",
              "product_id                0\n",
              "add_to_cart_order         0\n",
              "reordered                 0\n",
              "department_id             0\n",
              "department                0\n",
              "product_name              0\n",
              "dtype: int64"
            ]
          },
          "metadata": {},
          "execution_count": 7
        }
      ]
    },
    {
      "cell_type": "code",
      "source": [
        "# CONVERTING DATA TYPES\n",
        "df['days_since_prior_order']= df['days_since_prior_order'].astype(np.int64)"
      ],
      "metadata": {
        "id": "faTa8fcqy_aK"
      },
      "execution_count": null,
      "outputs": []
    },
    {
      "cell_type": "code",
      "source": [
        "df.info()"
      ],
      "metadata": {
        "colab": {
          "base_uri": "https://localhost:8080/"
        },
        "id": "Nu0AkaSfzOj-",
        "outputId": "f57d9a82-8ecd-4e8e-b0d1-1f485707b177"
      },
      "execution_count": null,
      "outputs": [
        {
          "output_type": "stream",
          "name": "stdout",
          "text": [
            "<class 'pandas.core.frame.DataFrame'>\n",
            "RangeIndex: 2019501 entries, 0 to 2019500\n",
            "Data columns (total 12 columns):\n",
            " #   Column                  Dtype \n",
            "---  ------                  ----- \n",
            " 0   order_id                int64 \n",
            " 1   user_id                 int64 \n",
            " 2   order_number            int64 \n",
            " 3   order_dow               int64 \n",
            " 4   order_hour_of_day       int64 \n",
            " 5   days_since_prior_order  int64 \n",
            " 6   product_id              int64 \n",
            " 7   add_to_cart_order       int64 \n",
            " 8   reordered               int64 \n",
            " 9   department_id           int64 \n",
            " 10  department              object\n",
            " 11  product_name            object\n",
            "dtypes: int64(10), object(2)\n",
            "memory usage: 184.9+ MB\n"
          ]
        }
      ]
    },
    {
      "cell_type": "markdown",
      "source": [
        "## DATA PREPARATION\n",
        "\n",
        "In this section we will be doing the following steps:\n",
        "\n",
        "* Investigating all elements within each feature\n",
        "* Aggregating & grouping values to visualize purchasing behaviour\n",
        "* Aggregating & grouping values to understand purchasing behaviour\n",
        "* Aggregating & grouping values to visualize & identify the most reordered items\n",
        "* Aggregating & grouping values to understand product reordered ratio\n",
        "* Aggregating & grouping values to visualize reordered ratio\n",
        "\n",
        "\n"
      ],
      "metadata": {
        "id": "Z0d9LBnTzYHN"
      }
    },
    {
      "cell_type": "code",
      "source": [
        "# INVESTIGATING ALL ELEMENTS WITHIN EACH FEATURE\n",
        "for colum in df:\n",
        "    unique_values = np.unique(df[colum])\n",
        "    nr_values = len(unique_values)\n",
        "    if nr_values < 22:\n",
        "        print(\"The number of unique values for features {} : {} --- {}\".format(colum, nr_values,unique_values))\n",
        "    else:\n",
        "         print(\"The number of unique values for features {} : {}\".format(colum, nr_values))"
      ],
      "metadata": {
        "colab": {
          "base_uri": "https://localhost:8080/"
        },
        "id": "JEuUWivAzWvu",
        "outputId": "44b53225-cbf6-4da9-fe09-e96732b30891"
      },
      "execution_count": null,
      "outputs": [
        {
          "output_type": "stream",
          "name": "stdout",
          "text": [
            "The number of unique values for features order_id : 200000\n",
            "The number of unique values for features user_id : 105273\n",
            "The number of unique values for features order_number : 100\n",
            "The number of unique values for features order_dow : 7 --- [0 1 2 3 4 5 6]\n",
            "The number of unique values for features order_hour_of_day : 24\n",
            "The number of unique values for features days_since_prior_order : 32\n",
            "The number of unique values for features product_id : 134\n",
            "The number of unique values for features add_to_cart_order : 137\n",
            "The number of unique values for features reordered : 2 --- [0 1]\n",
            "The number of unique values for features department_id : 21 --- [ 1  2  3  4  5  6  7  8  9 10 11 12 13 14 15 16 17 18 19 20 21]\n",
            "The number of unique values for features department : 21 --- ['alcohol' 'babies' 'bakery' 'beverages' 'breakfast' 'bulk' 'canned goods'\n",
            " 'dairy eggs' 'deli' 'dry goods pasta' 'frozen' 'household'\n",
            " 'international' 'meat seafood' 'missing' 'other' 'pantry' 'personal care'\n",
            " 'pets' 'produce' 'snacks']\n",
            "The number of unique values for features product_name : 134\n"
          ]
        }
      ]
    },
    {
      "cell_type": "code",
      "source": [
        "df.columns"
      ],
      "metadata": {
        "colab": {
          "base_uri": "https://localhost:8080/"
        },
        "id": "hgCygGP2z0pw",
        "outputId": "0f7f12b0-b724-4cef-ed8f-14becd8e67b9"
      },
      "execution_count": null,
      "outputs": [
        {
          "output_type": "execute_result",
          "data": {
            "text/plain": [
              "Index(['order_id', 'user_id', 'order_number', 'order_dow', 'order_hour_of_day',\n",
              "       'days_since_prior_order', 'product_id', 'add_to_cart_order',\n",
              "       'reordered', 'department_id', 'department', 'product_name'],\n",
              "      dtype='object')"
            ]
          },
          "metadata": {},
          "execution_count": 11
        }
      ]
    },
    {
      "cell_type": "code",
      "source": [
        "# AGGREGATING & GROUPING VALUES TO VISUALIZE PURCHASING BEHAVIOUR\n",
        "grouped = df.groupby(\"order_id\")[\"add_to_cart_order\"].aggregate(\"max\").reset_index()\n",
        "grouped = grouped.add_to_cart_order.value_counts()\n",
        "\n",
        "sns.set_style('dark')\n",
        "f, ax = plt.subplots(figsize=(15, 12))\n",
        "plt.xticks(rotation='vertical')\n",
        "sns.barplot(grouped.index, grouped.values)\n",
        "sns.color_palette(\"husl\", 10)\n",
        "\n",
        "plt.ylabel('Number of unique orders', fontsize=13)\n",
        "plt.xlabel('Number of products added to cart', fontsize=13)\n",
        "plt.show()\n",
        "\n",
        "#From the below plot we can understand the purchasing behavior of the customers, where we could observe that customers are usually ordering on average around 4-7 products."
      ],
      "metadata": {
        "colab": {
          "base_uri": "https://localhost:8080/",
          "height": 726
        },
        "id": "GHr1w_Fqz4Nc",
        "outputId": "47b279ce-c9ed-4905-821b-0d72532db62b"
      },
      "execution_count": null,
      "outputs": [
        {
          "output_type": "display_data",
          "data": {
            "text/plain": [
              "<Figure size 1080x864 with 1 Axes>"
            ],
            "image/png": "[encoded data removed]"
          },
          "metadata": {}
        }
      ]
    },
    {
      "cell_type": "code",
      "source": [
        "# AGGREGATING & GROUPING VALUES TO UNDERSTAND PURCHASING BEHAVIOUR\n",
        "grouped = df.groupby([\"product_id\",\"product_name\",\"department\"])[\"reordered\"].aggregate('count').reset_index()\n",
        "grouped = grouped.sort_values(by='reordered', ascending=False)[:15].reset_index()\n",
        "grouped\n",
        "\n",
        "#From the below table we can clearly observe that produce, dairy products, beverages and snacks are the top categories the customers are most interested to purchase"
      ],
      "metadata": {
        "colab": {
          "base_uri": "https://localhost:8080/",
          "height": 519
        },
        "id": "MzIWMwmt0d5L",
        "outputId": "888a35ca-834f-46a9-bee6-8b8690f5c357"
      },
      "execution_count": null,
      "outputs": [
        {
          "output_type": "execute_result",
          "data": {
            "text/plain": [
              "    index  product_id                   product_name  department  reordered\n",
              "0      23          24                   fresh fruits     produce     226039\n",
              "1      82          83               fresh vegetables     produce     212611\n",
              "2     122         123     packaged vegetables fruits     produce     109596\n",
              "3     119         120                         yogurt  dairy eggs      90751\n",
              "4      20          21                packaged cheese  dairy eggs      61502\n",
              "5      83          84                           milk  dairy eggs      55150\n",
              "6     114         115  water seltzer sparkling water   beverages      52564\n",
              "7     106         107                 chips pretzels      snacks      45306\n",
              "8      90          91                soy lactosefree  dairy eggs      39389\n",
              "9     111         112                          bread      bakery      36381\n",
              "10     30          31                   refrigerated   beverages      35893\n",
              "11    115         116                 frozen produce      frozen      32432\n",
              "12     36          37                  ice cream ice      frozen      31323\n",
              "13      2           3            energy granola bars      snacks      28639\n",
              "14     77          78                       crackers      snacks      28574"
            ],
            "text/html": [
              "\n",
              "  <div id=\"df-49db1b91-e01b-434a-b6eb-de22e3a48913\">\n",
              "    <div class=\"colab-df-container\">\n",
              "      <div>\n",
              "<style scoped>\n",
              "    .dataframe tbody tr th:only-of-type {\n",
              "        vertical-align: middle;\n",
              "    }\n",
              "\n",
              "    .dataframe tbody tr th {\n",
              "        vertical-align: top;\n",
              "    }\n",
              "\n",
              "    .dataframe thead th {\n",
              "        text-align: right;\n",
              "    }\n",
              "</style>\n",
              "<table border=\"1\" class=\"dataframe\">\n",
              "  <thead>\n",
              "    <tr style=\"text-align: right;\">\n",
              "      <th></th>\n",
              "      <th>index</th>\n",
              "      <th>product_id</th>\n",
              "      <th>product_name</th>\n",
              "      <th>department</th>\n",
              "      <th>reordered</th>\n",
              "    </tr>\n",
              "  </thead>\n",
              "  <tbody>\n",
              "    <tr>\n",
              "      <th>0</th>\n",
              "      <td>23</td>\n",
              "      <td>24</td>\n",
              "      <td>fresh fruits</td>\n",
              "      <td>produce</td>\n",
              "      <td>226039</td>\n",
              "    </tr>\n",
              "    <tr>\n",
              "      <th>1</th>\n",
              "      <td>82</td>\n",
              "      <td>83</td>\n",
              "      <td>fresh vegetables</td>\n",
              "      <td>produce</td>\n",
              "      <td>212611</td>\n",
              "    </tr>\n",
              "    <tr>\n",
              "      <th>2</th>\n",
              "      <td>122</td>\n",
              "      <td>123</td>\n",
              "      <td>packaged vegetables fruits</td>\n",
              "      <td>produce</td>\n",
              "      <td>109596</td>\n",
              "    </tr>\n",
              "    <tr>\n",
              "      <th>3</th>\n",
              "      <td>119</td>\n",
              "      <td>120</td>\n",
              "      <td>yogurt</td>\n",
              "      <td>dairy eggs</td>\n",
              "      <td>90751</td>\n",
              "    </tr>\n",
              "    <tr>\n",
              "      <th>4</th>\n",
              "      <td>20</td>\n",
              "      <td>21</td>\n",
              "      <td>packaged cheese</td>\n",
              "      <td>dairy eggs</td>\n",
              "      <td>61502</td>\n",
              "    </tr>\n",
              "    <tr>\n",
              "      <th>5</th>\n",
              "      <td>83</td>\n",
              "      <td>84</td>\n",
              "      <td>milk</td>\n",
              "      <td>dairy eggs</td>\n",
              "      <td>55150</td>\n",
              "    </tr>\n",
              "    <tr>\n",
              "      <th>6</th>\n",
              "      <td>114</td>\n",
              "      <td>115</td>\n",
              "      <td>water seltzer sparkling water</td>\n",
              "      <td>beverages</td>\n",
              "      <td>52564</td>\n",
              "    </tr>\n",
              "    <tr>\n",
              "      <th>7</th>\n",
              "      <td>106</td>\n",
              "      <td>107</td>\n",
              "      <td>chips pretzels</td>\n",
              "      <td>snacks</td>\n",
              "      <td>45306</td>\n",
              "    </tr>\n",
              "    <tr>\n",
              "      <th>8</th>\n",
              "      <td>90</td>\n",
              "      <td>91</td>\n",
              "      <td>soy lactosefree</td>\n",
              "      <td>dairy eggs</td>\n",
              "      <td>39389</td>\n",
              "    </tr>\n",
              "    <tr>\n",
              "      <th>9</th>\n",
              "      <td>111</td>\n",
              "      <td>112</td>\n",
              "      <td>bread</td>\n",
              "      <td>bakery</td>\n",
              "      <td>36381</td>\n",
              "    </tr>\n",
              "    <tr>\n",
              "      <th>10</th>\n",
              "      <td>30</td>\n",
              "      <td>31</td>\n",
              "      <td>refrigerated</td>\n",
              "      <td>beverages</td>\n",
              "      <td>35893</td>\n",
              "    </tr>\n",
              "    <tr>\n",
              "      <th>11</th>\n",
              "      <td>115</td>\n",
              "      <td>116</td>\n",
              "      <td>frozen produce</td>\n",
              "      <td>frozen</td>\n",
              "      <td>32432</td>\n",
              "    </tr>\n",
              "    <tr>\n",
              "      <th>12</th>\n",
              "      <td>36</td>\n",
              "      <td>37</td>\n",
              "      <td>ice cream ice</td>\n",
              "      <td>frozen</td>\n",
              "      <td>31323</td>\n",
              "    </tr>\n",
              "    <tr>\n",
              "      <th>13</th>\n",
              "      <td>2</td>\n",
              "      <td>3</td>\n",
              "      <td>energy granola bars</td>\n",
              "      <td>snacks</td>\n",
              "      <td>28639</td>\n",
              "    </tr>\n",
              "    <tr>\n",
              "      <th>14</th>\n",
              "      <td>77</td>\n",
              "      <td>78</td>\n",
              "      <td>crackers</td>\n",
              "      <td>snacks</td>\n",
              "      <td>28574</td>\n",
              "    </tr>\n",
              "  </tbody>\n",
              "</table>\n",
              "</div>\n",
              "      <button class=\"colab-df-convert\" onclick=\"convertToInteractive('df-49db1b91-e01b-434a-b6eb-de22e3a48913')\"\n",
              "              title=\"Convert this dataframe to an interactive table.\"\n",
              "              style=\"display:none;\">\n",
              "        \n",
              "  <svg xmlns=\"http://www.w3.org/2000/svg\" height=\"24px\"viewBox=\"0 0 24 24\"\n",
              "       width=\"24px\">\n",
              "    <path d=\"M0 0h24v24H0V0z\" fill=\"none\"/>\n",
              "    <path d=\"M18.56 5.44l.94 2.06.94-2.06 2.06-.94-2.06-.94-.94-2.06-.94 2.06-2.06.94zm-11 1L8.5 8.5l.94-2.06 2.06-.94-2.06-.94L8.5 2.5l-.94 2.06-2.06.94zm10 10l.94 2.06.94-2.06 2.06-.94-2.06-.94-.94-2.06-.94 2.06-2.06.94z\"/><path d=\"M17.41 7.96l-1.37-1.37c-.4-.4-.92-.59-1.43-.59-.52 0-1.04.2-1.43.59L10.3 9.45l-7.72 7.72c-.78.78-.78 2.05 0 2.83L4 21.41c.39.39.9.59 1.41.59.51 0 1.02-.2 1.41-.59l7.78-7.78 2.81-2.81c.8-.78.8-2.07 0-2.86zM5.41 20L4 18.59l7.72-7.72 1.47 1.35L5.41 20z\"/>\n",
              "  </svg>\n",
              "      </button>\n",
              "      \n",
              "  <style>\n",
              "    .colab-df-container {\n",
              "      display:flex;\n",
              "      flex-wrap:wrap;\n",
              "      gap: 12px;\n",
              "    }\n",
              "\n",
              "    .colab-df-convert {\n",
              "      background-color: #E8F0FE;\n",
              "      border: none;\n",
              "      border-radius: 50%;\n",
              "      cursor: pointer;\n",
              "      display: none;\n",
              "      fill: #1967D2;\n",
              "      height: 32px;\n",
              "      padding: 0 0 0 0;\n",
              "      width: 32px;\n",
              "    }\n",
              "\n",
              "    .colab-df-convert:hover {\n",
              "      background-color: #E2EBFA;\n",
              "      box-shadow: 0px 1px 2px rgba(60, 64, 67, 0.3), 0px 1px 3px 1px rgba(60, 64, 67, 0.15);\n",
              "      fill: #174EA6;\n",
              "    }\n",
              "\n",
              "    [theme=dark] .colab-df-convert {\n",
              "      background-color: #3B4455;\n",
              "      fill: #D2E3FC;\n",
              "    }\n",
              "\n",
              "    [theme=dark] .colab-df-convert:hover {\n",
              "      background-color: #434B5C;\n",
              "      box-shadow: 0px 1px 3px 1px rgba(0, 0, 0, 0.15);\n",
              "      filter: drop-shadow(0px 1px 2px rgba(0, 0, 0, 0.3));\n",
              "      fill: #FFFFFF;\n",
              "    }\n",
              "  </style>\n",
              "\n",
              "      <script>\n",
              "        const buttonEl =\n",
              "          document.querySelector('#df-49db1b91-e01b-434a-b6eb-de22e3a48913 button.colab-df-convert');\n",
              "        buttonEl.style.display =\n",
              "          google.colab.kernel.accessAllowed ? 'block' : 'none';\n",
              "\n",
              "        async function convertToInteractive(key) {\n",
              "          const element = document.querySelector('#df-49db1b91-e01b-434a-b6eb-de22e3a48913');\n",
              "          const dataTable =\n",
              "            await google.colab.kernel.invokeFunction('convertToInteractive',\n",
              "                                                     [key], {});\n",
              "          if (!dataTable) return;\n",
              "\n",
              "          const docLinkHtml = 'Like what you see? Visit the ' +\n",
              "            '<a target=\"_blank\" href=https://colab.research.google.com/notebooks/data_table.ipynb>data table notebook</a>'\n",
              "            + ' to learn more about interactive tables.';\n",
              "          element.innerHTML = '';\n",
              "          dataTable['output_type'] = 'display_data';\n",
              "          await google.colab.output.renderOutput(dataTable, element);\n",
              "          const docLink = document.createElement('div');\n",
              "          docLink.innerHTML = docLinkHtml;\n",
              "          element.appendChild(docLink);\n",
              "        }\n",
              "      </script>\n",
              "    </div>\n",
              "  </div>\n",
              "  "
            ]
          },
          "metadata": {},
          "execution_count": 13
        }
      ]
    },
    {
      "cell_type": "code",
      "source": [
        "# AGGREGATING & GROUPING VALUES TO VISUALIZE & IDENTIFY THE MOST REORDERED ITEMS\n",
        "grouped  = grouped.groupby(['product_name']).sum()['reordered'].sort_values(ascending=False)\n",
        "\n",
        "sns.set_style('darkgrid')\n",
        "f, ax = plt.subplots(figsize=(12, 10))\n",
        "plt.xticks(rotation='vertical')\n",
        "sns.barplot(grouped.index, grouped.values)\n",
        "plt.ylabel('Number of Reorders', fontsize=13)\n",
        "plt.xlabel('Most ordered Products', fontsize=13)\n",
        "plt.show()\n",
        "\n",
        "#From the below analysis we could observe that \"Fresh Fruits\",\"Fresh Vegetables\",\"Packaged Vegetables Fruits\",\"Yogurt\" & \"Packaged Cheese\" are top 5 most reordered products."
      ],
      "metadata": {
        "colab": {
          "base_uri": "https://localhost:8080/",
          "height": 744
        },
        "id": "XqNJ6b170zFK",
        "outputId": "f2386740-83d7-4425-c19c-1bcee296708f"
      },
      "execution_count": null,
      "outputs": [
        {
          "output_type": "display_data",
          "data": {
            "text/plain": [
              "<Figure size 864x720 with 1 Axes>"
            ],
            "image/png": "[encoded data removed]"
          },
          "metadata": {}
        }
      ]
    },
    {
      "cell_type": "code",
      "source": [
        "# AGGREGATING & GROUPING VALUES TO UNDERSTAND PRODUCT REORDERED RATIO\n",
        "grouped = df.groupby(\"reordered\")[\"product_id\"].aggregate('count').reset_index()\n",
        "grouped['Ratio'] = grouped[\"product_id\"].apply(lambda x: x /grouped['product_id'].sum())\n",
        "grouped"
      ],
      "metadata": {
        "colab": {
          "base_uri": "https://localhost:8080/",
          "height": 112
        },
        "id": "HU7rJhjA1CUW",
        "outputId": "a68b12a4-c07f-45e4-89ab-cb1da11e2eb7"
      },
      "execution_count": null,
      "outputs": [
        {
          "output_type": "execute_result",
          "data": {
            "text/plain": [
              "   reordered  product_id     Ratio\n",
              "0          0      828515  0.410257\n",
              "1          1     1190986  0.589743"
            ],
            "text/html": [
              "\n",
              "  <div id=\"df-871936fc-d9b3-4f99-b68f-fc77756a82f6\">\n",
              "    <div class=\"colab-df-container\">\n",
              "      <div>\n",
              "<style scoped>\n",
              "    .dataframe tbody tr th:only-of-type {\n",
              "        vertical-align: middle;\n",
              "    }\n",
              "\n",
              "    .dataframe tbody tr th {\n",
              "        vertical-align: top;\n",
              "    }\n",
              "\n",
              "    .dataframe thead th {\n",
              "        text-align: right;\n",
              "    }\n",
              "</style>\n",
              "<table border=\"1\" class=\"dataframe\">\n",
              "  <thead>\n",
              "    <tr style=\"text-align: right;\">\n",
              "      <th></th>\n",
              "      <th>reordered</th>\n",
              "      <th>product_id</th>\n",
              "      <th>Ratio</th>\n",
              "    </tr>\n",
              "  </thead>\n",
              "  <tbody>\n",
              "    <tr>\n",
              "      <th>0</th>\n",
              "      <td>0</td>\n",
              "      <td>828515</td>\n",
              "      <td>0.410257</td>\n",
              "    </tr>\n",
              "    <tr>\n",
              "      <th>1</th>\n",
              "      <td>1</td>\n",
              "      <td>1190986</td>\n",
              "      <td>0.589743</td>\n",
              "    </tr>\n",
              "  </tbody>\n",
              "</table>\n",
              "</div>\n",
              "      <button class=\"colab-df-convert\" onclick=\"convertToInteractive('df-871936fc-d9b3-4f99-b68f-fc77756a82f6')\"\n",
              "              title=\"Convert this dataframe to an interactive table.\"\n",
              "              style=\"display:none;\">\n",
              "        \n",
              "  <svg xmlns=\"http://www.w3.org/2000/svg\" height=\"24px\"viewBox=\"0 0 24 24\"\n",
              "       width=\"24px\">\n",
              "    <path d=\"M0 0h24v24H0V0z\" fill=\"none\"/>\n",
              "    <path d=\"M18.56 5.44l.94 2.06.94-2.06 2.06-.94-2.06-.94-.94-2.06-.94 2.06-2.06.94zm-11 1L8.5 8.5l.94-2.06 2.06-.94-2.06-.94L8.5 2.5l-.94 2.06-2.06.94zm10 10l.94 2.06.94-2.06 2.06-.94-2.06-.94-.94-2.06-.94 2.06-2.06.94z\"/><path d=\"M17.41 7.96l-1.37-1.37c-.4-.4-.92-.59-1.43-.59-.52 0-1.04.2-1.43.59L10.3 9.45l-7.72 7.72c-.78.78-.78 2.05 0 2.83L4 21.41c.39.39.9.59 1.41.59.51 0 1.02-.2 1.41-.59l7.78-7.78 2.81-2.81c.8-.78.8-2.07 0-2.86zM5.41 20L4 18.59l7.72-7.72 1.47 1.35L5.41 20z\"/>\n",
              "  </svg>\n",
              "      </button>\n",
              "      \n",
              "  <style>\n",
              "    .colab-df-container {\n",
              "      display:flex;\n",
              "      flex-wrap:wrap;\n",
              "      gap: 12px;\n",
              "    }\n",
              "\n",
              "    .colab-df-convert {\n",
              "      background-color: #E8F0FE;\n",
              "      border: none;\n",
              "      border-radius: 50%;\n",
              "      cursor: pointer;\n",
              "      display: none;\n",
              "      fill: #1967D2;\n",
              "      height: 32px;\n",
              "      padding: 0 0 0 0;\n",
              "      width: 32px;\n",
              "    }\n",
              "\n",
              "    .colab-df-convert:hover {\n",
              "      background-color: #E2EBFA;\n",
              "      box-shadow: 0px 1px 2px rgba(60, 64, 67, 0.3), 0px 1px 3px 1px rgba(60, 64, 67, 0.15);\n",
              "      fill: #174EA6;\n",
              "    }\n",
              "\n",
              "    [theme=dark] .colab-df-convert {\n",
              "      background-color: #3B4455;\n",
              "      fill: #D2E3FC;\n",
              "    }\n",
              "\n",
              "    [theme=dark] .colab-df-convert:hover {\n",
              "      background-color: #434B5C;\n",
              "      box-shadow: 0px 1px 3px 1px rgba(0, 0, 0, 0.15);\n",
              "      filter: drop-shadow(0px 1px 2px rgba(0, 0, 0, 0.3));\n",
              "      fill: #FFFFFF;\n",
              "    }\n",
              "  </style>\n",
              "\n",
              "      <script>\n",
              "        const buttonEl =\n",
              "          document.querySelector('#df-871936fc-d9b3-4f99-b68f-fc77756a82f6 button.colab-df-convert');\n",
              "        buttonEl.style.display =\n",
              "          google.colab.kernel.accessAllowed ? 'block' : 'none';\n",
              "\n",
              "        async function convertToInteractive(key) {\n",
              "          const element = document.querySelector('#df-871936fc-d9b3-4f99-b68f-fc77756a82f6');\n",
              "          const dataTable =\n",
              "            await google.colab.kernel.invokeFunction('convertToInteractive',\n",
              "                                                     [key], {});\n",
              "          if (!dataTable) return;\n",
              "\n",
              "          const docLinkHtml = 'Like what you see? Visit the ' +\n",
              "            '<a target=\"_blank\" href=https://colab.research.google.com/notebooks/data_table.ipynb>data table notebook</a>'\n",
              "            + ' to learn more about interactive tables.';\n",
              "          element.innerHTML = '';\n",
              "          dataTable['output_type'] = 'display_data';\n",
              "          await google.colab.output.renderOutput(dataTable, element);\n",
              "          const docLink = document.createElement('div');\n",
              "          docLink.innerHTML = docLinkHtml;\n",
              "          element.appendChild(docLink);\n",
              "        }\n",
              "      </script>\n",
              "    </div>\n",
              "  </div>\n",
              "  "
            ]
          },
          "metadata": {},
          "execution_count": 15
        }
      ]
    },
    {
      "cell_type": "code",
      "source": [
        "# AGGREGATING & GROUPING VALUES TO VISUALIZE REORDERED RATIO\n",
        "grouped  = grouped.groupby(['reordered']).sum()['product_id'].sort_values(ascending=False)\n",
        "\n",
        "sns.set_style('whitegrid')\n",
        "f, ax = plt.subplots(figsize=(5, 8))\n",
        "sns.barplot(grouped.index, grouped.values, palette='coolwarm')\n",
        "plt.ylabel('Number of Products', fontsize=13)\n",
        "plt.xlabel('Reordered', fontsize=13)\n",
        "plt.ticklabel_format(style='plain', axis='y')\n",
        "plt.show()\n",
        "\n",
        "#From the below we can see that 59 % of products were reordered by customers."
      ],
      "metadata": {
        "colab": {
          "base_uri": "https://localhost:8080/",
          "height": 500
        },
        "id": "z1L59sy71Fyl",
        "outputId": "afcdd975-2972-4699-bf02-dded81f2867d"
      },
      "execution_count": null,
      "outputs": [
        {
          "output_type": "display_data",
          "data": {
            "text/plain": [
              "<Figure size 360x576 with 1 Axes>"
            ],
            "image/png": "[encoded data removed]"
          },
          "metadata": {}
        }
      ]
    },
    {
      "cell_type": "markdown",
      "source": [
        "## MODELING : K-MEANS ALGORITHM"
      ],
      "metadata": {
        "id": "lRxBt9mn1adc"
      }
    },
    {
      "cell_type": "markdown",
      "source": [
        "Team- Each team member has submitted their implementation separately -K-Means Clustering with Tensorflow\n"
      ],
      "metadata": {
        "id": "yAhHrmDUwV4Q"
      }
    },
    {
      "cell_type": "code",
      "source": [
        "len(df.product_id.unique())"
      ],
      "metadata": {
        "colab": {
          "base_uri": "https://localhost:8080/"
        },
        "id": "MQU39gR31MBo",
        "outputId": "e3e47cdd-f3c6-408c-d7b9-0f931ffe1252"
      },
      "execution_count": null,
      "outputs": [
        {
          "output_type": "execute_result",
          "data": {
            "text/plain": [
              "134"
            ]
          },
          "metadata": {},
          "execution_count": 17
        }
      ]
    },
    {
      "cell_type": "code",
      "source": [
        "# UNDERSTANDING DATA DISTRIBUTION BY USING CROSSTAB TO GET ROW WISE PROPORTION FOR EARCH DEPARTMENT\n",
        "clst_prd = pd.crosstab(df['user_id'], df['department'])\n",
        "clst_prd"
      ],
      "metadata": {
        "colab": {
          "base_uri": "https://localhost:8080/",
          "height": 553
        },
        "id": "5jXE3K0x1uCg",
        "outputId": "7bba08d5-bbc4-49ba-f7a7-da4e4544f5b2"
      },
      "execution_count": null,
      "outputs": [
        {
          "output_type": "execute_result",
          "data": {
            "text/plain": [
              "department  alcohol  babies  bakery  beverages  breakfast  bulk  canned goods  \\\n",
              "user_id                                                                         \n",
              "2                 0       0       0          0          0     0             0   \n",
              "3                 0       0       0          1          0     0             0   \n",
              "7                 0       0       1          7          0     0             2   \n",
              "10                0       0       0          0          0     0             0   \n",
              "11                0       0       0          3          0     0             0   \n",
              "...             ...     ...     ...        ...        ...   ...           ...   \n",
              "206204            0       0       1          0          0     0             0   \n",
              "206205            0       0       1          1          0     0             0   \n",
              "206206            0       0       0          2          0     0             0   \n",
              "206208            0       0       2          1          1     0             0   \n",
              "206209            0       0       2          3          1     0             1   \n",
              "\n",
              "department  dairy eggs  deli  dry goods pasta  ...  household  international  \\\n",
              "user_id                                        ...                             \n",
              "2                    2     3                0  ...          0              0   \n",
              "3                    5     0                0  ...          1              0   \n",
              "7                    4     3                0  ...          0              0   \n",
              "10                   5     4                0  ...          0              0   \n",
              "11                   2     0                0  ...          0              0   \n",
              "...                ...   ...              ...  ...        ...            ...   \n",
              "206204               6     0                2  ...          0              0   \n",
              "206205               2     0                0  ...          0              0   \n",
              "206206               1     1                0  ...          0              1   \n",
              "206208               7     1                0  ...          0              0   \n",
              "206209               4     1                0  ...          4              0   \n",
              "\n",
              "department  meat seafood  missing  other  pantry  personal care  pets  \\\n",
              "user_id                                                                 \n",
              "2                      0        0      0       0              0     0   \n",
              "3                      0        0      0       1              0     0   \n",
              "7                      1        0      0       0              0     0   \n",
              "10                     4        0      0       4              0     0   \n",
              "11                     0        0      0       4              0     0   \n",
              "...                  ...      ...    ...     ...            ...   ...   \n",
              "206204                 1        0      0       0              0     1   \n",
              "206205                 0        0      0       0              0     0   \n",
              "206206                 1        0      0       0              0     0   \n",
              "206208                 0        0      0       0              0     0   \n",
              "206209                 0        0      0       1              0     0   \n",
              "\n",
              "department  produce  snacks  \n",
              "user_id                      \n",
              "2                 3       3  \n",
              "3                 6       3  \n",
              "7                 2       3  \n",
              "10               13       0  \n",
              "11                2       0  \n",
              "...             ...     ...  \n",
              "206204            4       0  \n",
              "206205            3       0  \n",
              "206206            1       4  \n",
              "206208           10       2  \n",
              "206209            4       2  \n",
              "\n",
              "[105273 rows x 21 columns]"
            ],
            "text/html": [
              "\n",
              "  <div id=\"df-1f0fb235-e8b6-4cfd-87b1-98fc0f3cabc8\">\n",
              "    <div class=\"colab-df-container\">\n",
              "      <div>\n",
              "<style scoped>\n",
              "    .dataframe tbody tr th:only-of-type {\n",
              "        vertical-align: middle;\n",
              "    }\n",
              "\n",
              "    .dataframe tbody tr th {\n",
              "        vertical-align: top;\n",
              "    }\n",
              "\n",
              "    .dataframe thead th {\n",
              "        text-align: right;\n",
              "    }\n",
              "</style>\n",
              "<table border=\"1\" class=\"dataframe\">\n",
              "  <thead>\n",
              "    <tr style=\"text-align: right;\">\n",
              "      <th>department</th>\n",
              "      <th>alcohol</th>\n",
              "      <th>babies</th>\n",
              "      <th>bakery</th>\n",
              "      <th>beverages</th>\n",
              "      <th>breakfast</th>\n",
              "      <th>bulk</th>\n",
              "      <th>canned goods</th>\n",
              "      <th>dairy eggs</th>\n",
              "      <th>deli</th>\n",
              "      <th>dry goods pasta</th>\n",
              "      <th>...</th>\n",
              "      <th>household</th>\n",
              "      <th>international</th>\n",
              "      <th>meat seafood</th>\n",
              "      <th>missing</th>\n",
              "      <th>other</th>\n",
              "      <th>pantry</th>\n",
              "      <th>personal care</th>\n",
              "      <th>pets</th>\n",
              "      <th>produce</th>\n",
              "      <th>snacks</th>\n",
              "    </tr>\n",
              "    <tr>\n",
              "      <th>user_id</th>\n",
              "      <th></th>\n",
              "      <th></th>\n",
              "      <th></th>\n",
              "      <th></th>\n",
              "      <th></th>\n",
              "      <th></th>\n",
              "      <th></th>\n",
              "      <th></th>\n",
              "      <th></th>\n",
              "      <th></th>\n",
              "      <th></th>\n",
              "      <th></th>\n",
              "      <th></th>\n",
              "      <th></th>\n",
              "      <th></th>\n",
              "      <th></th>\n",
              "      <th></th>\n",
              "      <th></th>\n",
              "      <th></th>\n",
              "      <th></th>\n",
              "      <th></th>\n",
              "    </tr>\n",
              "  </thead>\n",
              "  <tbody>\n",
              "    <tr>\n",
              "      <th>2</th>\n",
              "      <td>0</td>\n",
              "      <td>0</td>\n",
              "      <td>0</td>\n",
              "      <td>0</td>\n",
              "      <td>0</td>\n",
              "      <td>0</td>\n",
              "      <td>0</td>\n",
              "      <td>2</td>\n",
              "      <td>3</td>\n",
              "      <td>0</td>\n",
              "      <td>...</td>\n",
              "      <td>0</td>\n",
              "      <td>0</td>\n",
              "      <td>0</td>\n",
              "      <td>0</td>\n",
              "      <td>0</td>\n",
              "      <td>0</td>\n",
              "      <td>0</td>\n",
              "      <td>0</td>\n",
              "      <td>3</td>\n",
              "      <td>3</td>\n",
              "    </tr>\n",
              "    <tr>\n",
              "      <th>3</th>\n",
              "      <td>0</td>\n",
              "      <td>0</td>\n",
              "      <td>0</td>\n",
              "      <td>1</td>\n",
              "      <td>0</td>\n",
              "      <td>0</td>\n",
              "      <td>0</td>\n",
              "      <td>5</td>\n",
              "      <td>0</td>\n",
              "      <td>0</td>\n",
              "      <td>...</td>\n",
              "      <td>1</td>\n",
              "      <td>0</td>\n",
              "      <td>0</td>\n",
              "      <td>0</td>\n",
              "      <td>0</td>\n",
              "      <td>1</td>\n",
              "      <td>0</td>\n",
              "      <td>0</td>\n",
              "      <td>6</td>\n",
              "      <td>3</td>\n",
              "    </tr>\n",
              "    <tr>\n",
              "      <th>7</th>\n",
              "      <td>0</td>\n",
              "      <td>0</td>\n",
              "      <td>1</td>\n",
              "      <td>7</td>\n",
              "      <td>0</td>\n",
              "      <td>0</td>\n",
              "      <td>2</td>\n",
              "      <td>4</td>\n",
              "      <td>3</td>\n",
              "      <td>0</td>\n",
              "      <td>...</td>\n",
              "      <td>0</td>\n",
              "      <td>0</td>\n",
              "      <td>1</td>\n",
              "      <td>0</td>\n",
              "      <td>0</td>\n",
              "      <td>0</td>\n",
              "      <td>0</td>\n",
              "      <td>0</td>\n",
              "      <td>2</td>\n",
              "      <td>3</td>\n",
              "    </tr>\n",
              "    <tr>\n",
              "      <th>10</th>\n",
              "      <td>0</td>\n",
              "      <td>0</td>\n",
              "      <td>0</td>\n",
              "      <td>0</td>\n",
              "      <td>0</td>\n",
              "      <td>0</td>\n",
              "      <td>0</td>\n",
              "      <td>5</td>\n",
              "      <td>4</td>\n",
              "      <td>0</td>\n",
              "      <td>...</td>\n",
              "      <td>0</td>\n",
              "      <td>0</td>\n",
              "      <td>4</td>\n",
              "      <td>0</td>\n",
              "      <td>0</td>\n",
              "      <td>4</td>\n",
              "      <td>0</td>\n",
              "      <td>0</td>\n",
              "      <td>13</td>\n",
              "      <td>0</td>\n",
              "    </tr>\n",
              "    <tr>\n",
              "      <th>11</th>\n",
              "      <td>0</td>\n",
              "      <td>0</td>\n",
              "      <td>0</td>\n",
              "      <td>3</td>\n",
              "      <td>0</td>\n",
              "      <td>0</td>\n",
              "      <td>0</td>\n",
              "      <td>2</td>\n",
              "      <td>0</td>\n",
              "      <td>0</td>\n",
              "      <td>...</td>\n",
              "      <td>0</td>\n",
              "      <td>0</td>\n",
              "      <td>0</td>\n",
              "      <td>0</td>\n",
              "      <td>0</td>\n",
              "      <td>4</td>\n",
              "      <td>0</td>\n",
              "      <td>0</td>\n",
              "      <td>2</td>\n",
              "      <td>0</td>\n",
              "    </tr>\n",
              "    <tr>\n",
              "      <th>...</th>\n",
              "      <td>...</td>\n",
              "      <td>...</td>\n",
              "      <td>...</td>\n",
              "      <td>...</td>\n",
              "      <td>...</td>\n",
              "      <td>...</td>\n",
              "      <td>...</td>\n",
              "      <td>...</td>\n",
              "      <td>...</td>\n",
              "      <td>...</td>\n",
              "      <td>...</td>\n",
              "      <td>...</td>\n",
              "      <td>...</td>\n",
              "      <td>...</td>\n",
              "      <td>...</td>\n",
              "      <td>...</td>\n",
              "      <td>...</td>\n",
              "      <td>...</td>\n",
              "      <td>...</td>\n",
              "      <td>...</td>\n",
              "      <td>...</td>\n",
              "    </tr>\n",
              "    <tr>\n",
              "      <th>206204</th>\n",
              "      <td>0</td>\n",
              "      <td>0</td>\n",
              "      <td>1</td>\n",
              "      <td>0</td>\n",
              "      <td>0</td>\n",
              "      <td>0</td>\n",
              "      <td>0</td>\n",
              "      <td>6</td>\n",
              "      <td>0</td>\n",
              "      <td>2</td>\n",
              "      <td>...</td>\n",
              "      <td>0</td>\n",
              "      <td>0</td>\n",
              "      <td>1</td>\n",
              "      <td>0</td>\n",
              "      <td>0</td>\n",
              "      <td>0</td>\n",
              "      <td>0</td>\n",
              "      <td>1</td>\n",
              "      <td>4</td>\n",
              "      <td>0</td>\n",
              "    </tr>\n",
              "    <tr>\n",
              "      <th>206205</th>\n",
              "      <td>0</td>\n",
              "      <td>0</td>\n",
              "      <td>1</td>\n",
              "      <td>1</td>\n",
              "      <td>0</td>\n",
              "      <td>0</td>\n",
              "      <td>0</td>\n",
              "      <td>2</td>\n",
              "      <td>0</td>\n",
              "      <td>0</td>\n",
              "      <td>...</td>\n",
              "      <td>0</td>\n",
              "      <td>0</td>\n",
              "      <td>0</td>\n",
              "      <td>0</td>\n",
              "      <td>0</td>\n",
              "      <td>0</td>\n",
              "      <td>0</td>\n",
              "      <td>0</td>\n",
              "      <td>3</td>\n",
              "      <td>0</td>\n",
              "    </tr>\n",
              "    <tr>\n",
              "      <th>206206</th>\n",
              "      <td>0</td>\n",
              "      <td>0</td>\n",
              "      <td>0</td>\n",
              "      <td>2</td>\n",
              "      <td>0</td>\n",
              "      <td>0</td>\n",
              "      <td>0</td>\n",
              "      <td>1</td>\n",
              "      <td>1</td>\n",
              "      <td>0</td>\n",
              "      <td>...</td>\n",
              "      <td>0</td>\n",
              "      <td>1</td>\n",
              "      <td>1</td>\n",
              "      <td>0</td>\n",
              "      <td>0</td>\n",
              "      <td>0</td>\n",
              "      <td>0</td>\n",
              "      <td>0</td>\n",
              "      <td>1</td>\n",
              "      <td>4</td>\n",
              "    </tr>\n",
              "    <tr>\n",
              "      <th>206208</th>\n",
              "      <td>0</td>\n",
              "      <td>0</td>\n",
              "      <td>2</td>\n",
              "      <td>1</td>\n",
              "      <td>1</td>\n",
              "      <td>0</td>\n",
              "      <td>0</td>\n",
              "      <td>7</td>\n",
              "      <td>1</td>\n",
              "      <td>0</td>\n",
              "      <td>...</td>\n",
              "      <td>0</td>\n",
              "      <td>0</td>\n",
              "      <td>0</td>\n",
              "      <td>0</td>\n",
              "      <td>0</td>\n",
              "      <td>0</td>\n",
              "      <td>0</td>\n",
              "      <td>0</td>\n",
              "      <td>10</td>\n",
              "      <td>2</td>\n",
              "    </tr>\n",
              "    <tr>\n",
              "      <th>206209</th>\n",
              "      <td>0</td>\n",
              "      <td>0</td>\n",
              "      <td>2</td>\n",
              "      <td>3</td>\n",
              "      <td>1</td>\n",
              "      <td>0</td>\n",
              "      <td>1</td>\n",
              "      <td>4</td>\n",
              "      <td>1</td>\n",
              "      <td>0</td>\n",
              "      <td>...</td>\n",
              "      <td>4</td>\n",
              "      <td>0</td>\n",
              "      <td>0</td>\n",
              "      <td>0</td>\n",
              "      <td>0</td>\n",
              "      <td>1</td>\n",
              "      <td>0</td>\n",
              "      <td>0</td>\n",
              "      <td>4</td>\n",
              "      <td>2</td>\n",
              "    </tr>\n",
              "  </tbody>\n",
              "</table>\n",
              "<p>105273 rows × 21 columns</p>\n",
              "</div>\n",
              "      <button class=\"colab-df-convert\" onclick=\"convertToInteractive('df-1f0fb235-e8b6-4cfd-87b1-98fc0f3cabc8')\"\n",
              "              title=\"Convert this dataframe to an interactive table.\"\n",
              "              style=\"display:none;\">\n",
              "        \n",
              "  <svg xmlns=\"http://www.w3.org/2000/svg\" height=\"24px\"viewBox=\"0 0 24 24\"\n",
              "       width=\"24px\">\n",
              "    <path d=\"M0 0h24v24H0V0z\" fill=\"none\"/>\n",
              "    <path d=\"M18.56 5.44l.94 2.06.94-2.06 2.06-.94-2.06-.94-.94-2.06-.94 2.06-2.06.94zm-11 1L8.5 8.5l.94-2.06 2.06-.94-2.06-.94L8.5 2.5l-.94 2.06-2.06.94zm10 10l.94 2.06.94-2.06 2.06-.94-2.06-.94-.94-2.06-.94 2.06-2.06.94z\"/><path d=\"M17.41 7.96l-1.37-1.37c-.4-.4-.92-.59-1.43-.59-.52 0-1.04.2-1.43.59L10.3 9.45l-7.72 7.72c-.78.78-.78 2.05 0 2.83L4 21.41c.39.39.9.59 1.41.59.51 0 1.02-.2 1.41-.59l7.78-7.78 2.81-2.81c.8-.78.8-2.07 0-2.86zM5.41 20L4 18.59l7.72-7.72 1.47 1.35L5.41 20z\"/>\n",
              "  </svg>\n",
              "      </button>\n",
              "      \n",
              "  <style>\n",
              "    .colab-df-container {\n",
              "      display:flex;\n",
              "      flex-wrap:wrap;\n",
              "      gap: 12px;\n",
              "    }\n",
              "\n",
              "    .colab-df-convert {\n",
              "      background-color: #E8F0FE;\n",
              "      border: none;\n",
              "      border-radius: 50%;\n",
              "      cursor: pointer;\n",
              "      display: none;\n",
              "      fill: #1967D2;\n",
              "      height: 32px;\n",
              "      padding: 0 0 0 0;\n",
              "      width: 32px;\n",
              "    }\n",
              "\n",
              "    .colab-df-convert:hover {\n",
              "      background-color: #E2EBFA;\n",
              "      box-shadow: 0px 1px 2px rgba(60, 64, 67, 0.3), 0px 1px 3px 1px rgba(60, 64, 67, 0.15);\n",
              "      fill: #174EA6;\n",
              "    }\n",
              "\n",
              "    [theme=dark] .colab-df-convert {\n",
              "      background-color: #3B4455;\n",
              "      fill: #D2E3FC;\n",
              "    }\n",
              "\n",
              "    [theme=dark] .colab-df-convert:hover {\n",
              "      background-color: #434B5C;\n",
              "      box-shadow: 0px 1px 3px 1px rgba(0, 0, 0, 0.15);\n",
              "      filter: drop-shadow(0px 1px 2px rgba(0, 0, 0, 0.3));\n",
              "      fill: #FFFFFF;\n",
              "    }\n",
              "  </style>\n",
              "\n",
              "      <script>\n",
              "        const buttonEl =\n",
              "          document.querySelector('#df-1f0fb235-e8b6-4cfd-87b1-98fc0f3cabc8 button.colab-df-convert');\n",
              "        buttonEl.style.display =\n",
              "          google.colab.kernel.accessAllowed ? 'block' : 'none';\n",
              "\n",
              "        async function convertToInteractive(key) {\n",
              "          const element = document.querySelector('#df-1f0fb235-e8b6-4cfd-87b1-98fc0f3cabc8');\n",
              "          const dataTable =\n",
              "            await google.colab.kernel.invokeFunction('convertToInteractive',\n",
              "                                                     [key], {});\n",
              "          if (!dataTable) return;\n",
              "\n",
              "          const docLinkHtml = 'Like what you see? Visit the ' +\n",
              "            '<a target=\"_blank\" href=https://colab.research.google.com/notebooks/data_table.ipynb>data table notebook</a>'\n",
              "            + ' to learn more about interactive tables.';\n",
              "          element.innerHTML = '';\n",
              "          dataTable['output_type'] = 'display_data';\n",
              "          await google.colab.output.renderOutput(dataTable, element);\n",
              "          const docLink = document.createElement('div');\n",
              "          docLink.innerHTML = docLinkHtml;\n",
              "          element.appendChild(docLink);\n",
              "        }\n",
              "      </script>\n",
              "    </div>\n",
              "  </div>\n",
              "  "
            ]
          },
          "metadata": {},
          "execution_count": 18
        }
      ]
    },
    {
      "cell_type": "code",
      "source": [
        "\n",
        "# RUNNING K-MEANS\n",
        "X_train = clst_prd.values\n",
        "\n",
        "# WE WILL START WITH 6 CLUSTERS FOR EXPLORATION\n",
        "kmeans = KMeans(n_clusters=6, random_state=540)\n",
        "kmeans = kmeans.fit(X_train)\n",
        "\n",
        "# PRINT THE CLUSTERS THAT IS ASSIGNED FOR EACH OBSERVATION\n",
        "print(\"The cluster are  :\", kmeans.labels_)\n",
        "\n",
        "# PRINT INERTIA\n",
        "print(\"The Inertia is :\", kmeans.inertia_)\n"
      ],
      "metadata": {
        "colab": {
          "base_uri": "https://localhost:8080/"
        },
        "id": "qIZgPPFM2N2Q",
        "outputId": "8213c3d3-489e-43d2-d76f-f3fe6da89e9e"
      },
      "execution_count": null,
      "outputs": [
        {
          "output_type": "stream",
          "name": "stdout",
          "text": [
            "The cluster are  : [0 2 4 ... 0 2 4]\n",
            "The Inertia is : 4996208.43917668\n"
          ]
        }
      ]
    },
    {
      "cell_type": "code",
      "source": [
        "# RUNNING K-MEANS ON A RANG OF CLUSTERS TO FIND OPTIMAL NUMBER\n",
        "no_of_clusters = range(2,10)\n",
        "inertia =[]\n",
        "\n",
        "for f in no_of_clusters:\n",
        "    kmeans = KMeans(n_clusters=f, random_state=540)\n",
        "    kmeans = kmeans.fit(X_train)\n",
        "    u = kmeans.inertia_\n",
        "    inertia.append(u)\n",
        "    print(\"The inertia for :\", f , \"Cluster is : \" , u)\n",
        "    "
      ],
      "metadata": {
        "colab": {
          "base_uri": "https://localhost:8080/"
        },
        "id": "ZK8_OsQt18IO",
        "outputId": "62d3b781-0779-4b3d-dc69-04fe235a258d"
      },
      "execution_count": null,
      "outputs": [
        {
          "output_type": "stream",
          "name": "stdout",
          "text": [
            "The inertia for : 2 Cluster is :  7543563.615122272\n",
            "The inertia for : 3 Cluster is :  6284972.054315539\n",
            "The inertia for : 4 Cluster is :  5731867.711694658\n",
            "The inertia for : 5 Cluster is :  5281366.432549876\n",
            "The inertia for : 6 Cluster is :  4996208.43917668\n",
            "The inertia for : 7 Cluster is :  4763209.24528482\n",
            "The inertia for : 8 Cluster is :  4586277.708068137\n",
            "The inertia for : 9 Cluster is :  4436399.2237132825\n"
          ]
        }
      ]
    },
    {
      "cell_type": "code",
      "source": [
        "# CREATING SCREE PLOT TO VISUALIZE INERTIA - ELBOW METHOD\n",
        "fig, (ax1) = plt.subplots(1, figsize =(20,6))\n",
        "xx = np.arange(len(no_of_clusters))\n",
        "ax1.plot(xx, inertia)\n",
        "ax1.set_xticks(xx)\n",
        "ax1.set_xticklabels(no_of_clusters, rotation =\"vertical\")\n",
        "plt.xlabel(\"Number of clusters\")\n",
        "plt.ylabel(\"Inertia Score\")\n",
        "plt.title(\"Inertia Plot per k\")"
      ],
      "metadata": {
        "colab": {
          "base_uri": "https://localhost:8080/",
          "height": 415
        },
        "id": "xfmkeB992bvl",
        "outputId": "d383f2d6-8f3d-4773-f0b3-b63c3219eb37"
      },
      "execution_count": null,
      "outputs": [
        {
          "output_type": "execute_result",
          "data": {
            "text/plain": [
              "Text(0.5, 1.0, 'Inertia Plot per k')"
            ]
          },
          "metadata": {},
          "execution_count": 21
        },
        {
          "output_type": "display_data",
          "data": {
            "text/plain": [
              "<Figure size 1440x432 with 1 Axes>"
            ],
            "image/png": "[encoded data removed]"
          },
          "metadata": {}
        }
      ]
    },
    {
      "cell_type": "code",
      "source": [
        "from sklearn.preprocessing import MinMaxScaler\n",
        "from sklearn.cluster import SpectralClustering\n",
        "from sklearn.cluster import Birch\n",
        "import tensorflow as tf"
      ],
      "metadata": {
        "id": "uPGXbJZXmd2P"
      },
      "execution_count": null,
      "outputs": []
    },
    {
      "cell_type": "code",
      "source": [
        "points=clst_prd.values\n",
        "def input_fn():\n",
        "  return tf.compat.v1.train.limit_epochs(\n",
        "      tf.convert_to_tensor(points, dtype=tf.float32), num_epochs=1)\n",
        "\n",
        "num_clusters = 5\n",
        "kmeans = tf.compat.v1.estimator.experimental.KMeans(\n",
        "    num_clusters=num_clusters, use_mini_batch=False)\n",
        "\n",
        "# train\n",
        "num_iterations = 10\n",
        "previous_centers = None\n",
        "for _ in range(num_iterations):\n",
        "  kmeans.train(input_fn)\n",
        "  cluster_centers = kmeans.cluster_centers()\n",
        "  previous_centers = cluster_centers\n",
        "\n",
        "# map the input points to their clusters\n",
        "cluster_indices = list(kmeans.predict_cluster_index(input_fn))\n",
        "for i, point in enumerate(points):\n",
        "  cluster_index = cluster_indices[i]\n",
        "  center = cluster_centers[cluster_index]"
      ],
      "metadata": {
        "colab": {
          "base_uri": "https://localhost:8080/"
        },
        "id": "jmVviVFemM_B",
        "outputId": "125f265a-5380-4b0c-cc06-37a2744d491b"
      },
      "execution_count": null,
      "outputs": [
        {
          "output_type": "stream",
          "name": "stderr",
          "text": [
            "WARNING:tensorflow:Using temporary folder as model directory: /tmp/tmpzvckjf90\n",
            "WARNING:tensorflow:From /usr/local/lib/python3.8/dist-packages/tensorflow/python/training/training_util.py:396: Variable.initialized_value (from tensorflow.python.ops.variables) is deprecated and will be removed in a future version.\n",
            "Instructions for updating:\n",
            "Use Variable.read_value. Variables in 2.X are initialized automatically both in eager and graph (inside tf.defun) contexts.\n",
            "WARNING:tensorflow:From <ipython-input-23-520c32da3ce1>:3: limit_epochs (from tensorflow.python.training.input) is deprecated and will be removed in a future version.\n",
            "Instructions for updating:\n",
            "Queue-based input pipelines have been replaced by `tf.data`. Use `tf.data.Dataset.from_tensors(tensor).repeat(num_epochs)`.\n",
            "WARNING:tensorflow:From /usr/local/lib/python3.8/dist-packages/tensorflow/python/training/input.py:107: BaseResourceVariable.count_up_to (from tensorflow.python.ops.resource_variable_ops) is deprecated and will be removed in a future version.\n",
            "Instructions for updating:\n",
            "Prefer Dataset.range instead.\n",
            "WARNING:tensorflow:From /usr/local/lib/python3.8/dist-packages/tensorflow/python/training/saver.py:1175: get_checkpoint_mtimes (from tensorflow.python.training.checkpoint_management) is deprecated and will be removed in a future version.\n",
            "Instructions for updating:\n",
            "Use standard file utilities to get mtimes.\n",
            "WARNING:tensorflow:From /usr/local/lib/python3.8/dist-packages/tensorflow/python/training/saver.py:1066: remove_checkpoint (from tensorflow.python.training.checkpoint_management) is deprecated and will be removed in a future version.\n",
            "Instructions for updating:\n",
            "Use standard file APIs to delete files with this prefix.\n",
            "WARNING:tensorflow:Input graph does not use tf.data.Dataset or contain a QueueRunner. That means predict yields forever. This is probably a mistake.\n"
          ]
        }
      ]
    },
    {
      "cell_type": "code",
      "source": [
        "'''\n",
        "# PREDICTIONS FOR NEW DATA\n",
        "predictions = kmeans.predict(points)\n",
        "\n",
        "# CALCULATING THE COUNTS FOR THE CLUSTER\n",
        "unique , counts = np.unique(predictions, return_counts=True)\n",
        "counts = counts.reshape(1,5)\n",
        "\n",
        "# CREATING THE PLOT\n",
        "countscldf = pd.DataFrame(counts, columns=[\"Cluster 0 \", \"Cluster 1\" , \"Cluster 2\", \"Cluster 3\", \"Cluster 4\"])\n",
        "\n",
        "# DISPLAY THE PLOT\n",
        "countscldf\n",
        "'''"
      ],
      "metadata": {
        "id": "4CpjITVYqonb"
      },
      "execution_count": null,
      "outputs": []
    },
    {
      "cell_type": "markdown",
      "source": [
        "## DBSCAN algorithm - Sai pragna kancheti\n"
      ],
      "metadata": {
        "id": "ROA-b30by7xK"
      }
    },
    {
      "cell_type": "code",
      "source": [
        "from sklearn.cluster import DBSCAN\n",
        "\n",
        "\n",
        "db = DBSCAN(eps=0.3, min_samples=10).fit(clst_prd.values)\n",
        "core_samples_mask = np.zeros_like(db.labels_, dtype=bool)\n",
        "core_samples_mask[db.core_sample_indices_] = True\n",
        "labels = db.labels_\n",
        "\n",
        "# Number of clusters in labels, ignoring noise if present.\n",
        "n_clusters_ = len(set(labels)) - (1 if -1 in labels else 0)\n",
        "n_noise_ = list(labels).count(-1)\n",
        "\n",
        "print('Estimated number of clusters: %d' % n_clusters_)\n",
        "print('Estimated number of noise points: %d' % n_noise_)\n"
      ],
      "metadata": {
        "colab": {
          "base_uri": "https://localhost:8080/"
        },
        "id": "SS54VzmpzB3u",
        "outputId": "74f34c34-f96a-427b-bb30-d9be7bec4517"
      },
      "execution_count": 37,
      "outputs": [
        {
          "output_type": "stream",
          "name": "stdout",
          "text": [
            "Estimated number of clusters: 399\n",
            "Estimated number of noise points: 90753\n"
          ]
        }
      ]
    },
    {
      "cell_type": "code",
      "source": [
        "# Black removed and is used for noise instead.\n",
        "unique_labels = set(labels)\n",
        "colors = [plt.cm.Spectral(each)\n",
        "          for each in np.linspace(0, 1, len(unique_labels))]\n",
        "for k, col in zip(unique_labels, colors):\n",
        "    if k == -1:\n",
        "        # Black used for noise.\n",
        "        col = [0, 0, 0, 1]\n",
        "\n",
        "    class_member_mask = (labels == k)\n",
        "\n",
        "    xy = clst_prd.values[class_member_mask & core_samples_mask]\n",
        "    plt.plot(xy[:, 0], xy[:, 1], 'o', markerfacecolor=tuple(col),\n",
        "             markeredgecolor='k', markersize=14)\n",
        "\n",
        "    xy = clst_prd.values[class_member_mask & ~core_samples_mask]\n",
        "    plt.plot(xy[:, 0], xy[:, 1], 'o', markerfacecolor=tuple(col),\n",
        "             markeredgecolor='k', markersize=6)\n",
        "plt.title('DBSCAN Clustering') \n",
        "plt.title('Estimated number of clusters: %d' % n_clusters_)\n",
        "plt.gcf().set_size_inches(22,8)\n",
        "plt.show()\n",
        "#DBSCAN(eps=3, min_samples=2)"
      ],
      "metadata": {
        "colab": {
          "base_uri": "https://localhost:8080/",
          "height": 460
        },
        "id": "JM31eICp1b68",
        "outputId": "fee8d8fa-19ad-4124-c7b4-e5ad08edbd80"
      },
      "execution_count": 38,
      "outputs": [
        {
          "output_type": "display_data",
          "data": {
            "text/plain": [
              "<Figure size 1584x576 with 1 Axes>"
            ],
            "image/png": "[encoded data removed]"
          },
          "metadata": {}
        }
      ]
    },
    {
      "cell_type": "markdown",
      "source": [
        "## OPTICS clustering algorithm - Sravani raparla\n"
      ],
      "metadata": {
        "id": "GREEfmpz1-Fk"
      }
    },
    {
      "cell_type": "code",
      "source": [
        "from sklearn.cluster import OPTICS, cluster_optics_dbscan\n",
        "from matplotlib import gridspec \n",
        " bnm]=hb wa\n",
        "# Building the OPTICS Clustering model \n",
        "optics_model = OPTICS(min_samples = 30, xi = 0.8, min_cluster_size = 0.08)\n",
        "\n",
        "# Training the model \n",
        "optics_model.fit(clst_prd.values)  #clst_prd.values\n",
        "print('number of hierarchical clusters',len(optics_model.cluster_hierarchy_)-1)"
      ],
      "metadata": {
        "id": "ETgzjxNa2A-1",
        "colab": {
          "base_uri": "https://localhost:8080/"
        },
        "outputId": "5dd47fa3-33dd-41b9-da5c-31309fbaeaf3"
      },
      "execution_count": 40,
      "outputs": [
        {
          "output_type": "stream",
          "name": "stdout",
          "text": [
            "number of hierarchical clusters 0\n"
          ]
        }
      ]
    },
    {
      "cell_type": "code",
      "source": [
        "fig, ax = plt.subplots()\n",
        "\n",
        "scatter = ax.scatter(clst_prd.values[:,0],clst_prd.values[:,1], s=150,marker='o',edgecolors='black' ,c = optics_model.labels_, cmap =\"rainbow\")\n",
        "classes = ['1', '2', '3','4']\n",
        "# produce a legend with the unique colors from the scatter\n",
        "legend1 = ax.legend(*scatter.legend_elements(), loc=\"upper left\", title=\"Clusters\")\n",
        "ax.add_artist(legend1)\n",
        "\n",
        "# produce a legend with a cross section of sizes from the scatter\n",
        "handles, labels = scatter.legend_elements(prop=\"sizes\", alpha=0.6)\n",
        "legend2 = ax.legend(handles, labels, loc=\"upper right\", title=\"Sizes\")\n",
        "plt.title('OPTICS Clustering') \n",
        "plt.gcf().set_size_inches(22,8)\n",
        "plt.show()"
      ],
      "metadata": {
        "colab": {
          "base_uri": "https://localhost:8080/",
          "height": 460
        },
        "id": "Kzi2QYxQQpqL",
        "outputId": "61b69bc0-270b-4e8d-9093-9e9f86320b2e"
      },
      "execution_count": 41,
      "outputs": [
        {
          "output_type": "display_data",
          "data": {
            "text/plain": [
              "<Figure size 1584x576 with 1 Axes>"
            ],
            "image/png": "[encoded data removed]"
          },
          "metadata": {}
        }
      ]
    },
    {
      "cell_type": "code",
      "source": [
        "# the specified range \n",
        "space = np.arange(len(clst_prd.values)) \n",
        "  \n",
        "# Storing the reachability distance of each point \n",
        "reachability = optics_model.reachability_[optics_model.ordering_] \n",
        "  \n",
        "# Storing the cluster labels of each point \n",
        "labels = optics_model.labels_[optics_model.ordering_] \n",
        "#print(labels)"
      ],
      "metadata": {
        "id": "ncy_BAP0REQM"
      },
      "execution_count": 42,
      "outputs": []
    },
    {
      "cell_type": "code",
      "source": [
        "# Defining the framework of the visualization \n",
        "plt.figure(figsize =(10, 7)) \n",
        "G = gridspec.GridSpec(2, 3) \n",
        "ax1 = plt.subplot(G[0, :])\n",
        "\n",
        " \n",
        "\n",
        "# Plotting the Reachability-Distance Plot \n",
        "colors = ['c.', 'b.', 'r.', 'y.', 'g.'] \n",
        "for Class, colour in zip(range(0, 5), colors): \n",
        "    Xk = space[labels == Class] \n",
        "    Rk = reachability[labels == Class] \n",
        "    ax1.plot(Xk, Rk, colour, alpha = 0.3) \n",
        "ax1.plot(space[labels == -1], reachability[labels == -1], 'k.', alpha = 0.3) \n",
        "ax1.plot(space, np.full_like(space, 2., dtype = float), 'k-', alpha = 0.5) \n",
        "ax1.plot(space, np.full_like(space, 0.5, dtype = float), 'k-.', alpha = 0.5) \n",
        "ax1.set_ylabel('Reachability Distance') \n",
        "ax1.set_title('Reachability Plot')"
      ],
      "metadata": {
        "colab": {
          "base_uri": "https://localhost:8080/",
          "height": 254
        },
        "id": "WGrrra58RQo0",
        "outputId": "a745f117-de0a-4fa4-e7d8-48d4707e87bc"
      },
      "execution_count": 43,
      "outputs": [
        {
          "output_type": "execute_result",
          "data": {
            "text/plain": [
              "Text(0.5, 1.0, 'Reachability Plot')"
            ]
          },
          "metadata": {},
          "execution_count": 43
        },
        {
          "output_type": "display_data",
          "data": {
            "text/plain": [
              "<Figure size 720x504 with 1 Axes>"
            ],
            "image/png": "[encoded data removed]"
          },
          "metadata": {}
        }
      ]
    },
    {
      "cell_type": "markdown",
      "source": [
        "## Mean Shift algorithm - (chirudeep gorle )\n"
      ],
      "metadata": {
        "id": "NkOMZRSaX1ZI"
      }
    },
    {
      "cell_type": "code",
      "source": [
        "from sklearn.cluster import MeanShift\n",
        "from sklearn.datasets import make_blobs\n",
        "from matplotlib import pyplot as plt\n",
        "from mpl_toolkits.mplot3d import Axes3D"
      ],
      "metadata": {
        "id": "gR9Oj-kpYEDz"
      },
      "execution_count": 44,
      "outputs": []
    },
    {
      "cell_type": "code",
      "source": [
        "ms = MeanShift()\n",
        "ms.fit(clst_prd.values)\n",
        "cluster_centers = ms.cluster_centers_"
      ],
      "metadata": {
        "id": "X62RqSvrX8dE"
      },
      "execution_count": null,
      "outputs": []
    }
  ]
}